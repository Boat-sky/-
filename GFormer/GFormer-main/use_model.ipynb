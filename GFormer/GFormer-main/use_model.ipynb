{
 "cells": [
  {
   "cell_type": "code",
   "execution_count": 4,
   "metadata": {},
   "outputs": [
    {
     "name": "stderr",
     "output_type": "stream",
     "text": [
      "usage: ipykernel_launcher.py [-h] [--lr LR] [--ext EXT] [--gtw GTW]\n",
      "                             [--sub SUB] [--ctra CTRA] [--b2 B2]\n",
      "                             [--anchor_set_num ANCHOR_SET_NUM] [--batch BATCH]\n",
      "                             [--seed SEED] [--tstBat TSTBAT] [--reg REG]\n",
      "                             [--ssl_reg SSL_REG] [--epoch EPOCH]\n",
      "                             [--decay DECAY] [--save_path SAVE_PATH]\n",
      "                             [--latdim LATDIM] [--head HEAD]\n",
      "                             [--gcn_layer GCN_LAYER] [--gt_layer GT_LAYER]\n",
      "                             [--pnn_layer PNN_LAYER] [--load_model LOAD_MODEL]\n",
      "                             [--topk TOPK] [--data DATA] [--tstEpoch TSTEPOCH]\n",
      "                             [--seedNum SEEDNUM] [--maskDepth MASKDEPTH]\n",
      "                             [--fixSteps FIXSTEPS] [--keepRate KEEPRATE]\n",
      "                             [--keepRate2 KEEPRATE2] [--reRate RERATE]\n",
      "                             [--addRate ADDRATE] [--addNoise ADDNOISE]\n",
      "                             [--gpu GPU] [--eps EPS]\n",
      "                             [--approximate APPROXIMATE]\n",
      "ipykernel_launcher.py: error: argument --fixSteps: invalid int value: '/public/home/zhemodedc/.local/share/jupyter/runtime/kernel-v30cd44af54a37179069ebecf9c0d1515e59a66fdd.json'\n"
     ]
    },
    {
     "ename": "SystemExit",
     "evalue": "2",
     "output_type": "error",
     "traceback": [
      "An exception has occurred, use %tb to see the full traceback.\n",
      "\u001b[0;31mSystemExit\u001b[0m\u001b[0;31m:\u001b[0m 2\n"
     ]
    }
   ],
   "source": [
    "import torch\n",
    "from Params import args\n",
    "from Model import Model, GTLayer"
   ]
  },
  {
   "cell_type": "code",
   "execution_count": null,
   "metadata": {},
   "outputs": [],
   "source": []
  }
 ],
 "metadata": {
  "kernelspec": {
   "display_name": "recommend",
   "language": "python",
   "name": "python3"
  },
  "language_info": {
   "codemirror_mode": {
    "name": "ipython",
    "version": 3
   },
   "file_extension": ".py",
   "mimetype": "text/x-python",
   "name": "python",
   "nbconvert_exporter": "python",
   "pygments_lexer": "ipython3",
   "version": "3.10.15"
  }
 },
 "nbformat": 4,
 "nbformat_minor": 2
}
